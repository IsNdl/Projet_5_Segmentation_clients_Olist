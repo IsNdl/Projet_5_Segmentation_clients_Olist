{
 "cells": [
  {
   "cell_type": "markdown",
   "id": "95045cc8",
   "metadata": {},
   "source": [
    "# Projet 5 - Segmenter des clients d'un site e-commerce\n",
    "# Partie 3 : Contrat de maintenance"
   ]
  },
  {
   "cell_type": "markdown",
   "id": "c8738df2",
   "metadata": {
    "toc": true
   },
   "source": [
    "<h1>Sommaire<span class=\"tocSkip\"></span></h1>\n",
    "<div class=\"toc\"><ul class=\"toc-item\"><li><span><a href=\"#Technical-environment-setup\" data-toc-modified-id=\"Technical-environment-setup-1\"><span class=\"toc-item-num\">1&nbsp;&nbsp;</span>Technical environment setup</a></span></li><li><span><a href=\"#Maintenance-of-the-clustering-model\" data-toc-modified-id=\"Maintenance-of-the-clustering-model-2\"><span class=\"toc-item-num\">2&nbsp;&nbsp;</span>Maintenance of the clustering model</a></span><ul class=\"toc-item\"><li><span><a href=\"#Dataset-splitting\" data-toc-modified-id=\"Dataset-splitting-2.1\"><span class=\"toc-item-num\">2.1&nbsp;&nbsp;</span>Dataset splitting</a></span><ul class=\"toc-item\"><li><span><a href=\"#Initialization-of-some-useful-variables\" data-toc-modified-id=\"Initialization-of-some-useful-variables-2.1.1\"><span class=\"toc-item-num\">2.1.1&nbsp;&nbsp;</span>Initialization of some useful variables</a></span></li><li><span><a href=\"#Time-splitter-function\" data-toc-modified-id=\"Time-splitter-function-2.1.2\"><span class=\"toc-item-num\">2.1.2&nbsp;&nbsp;</span>Time-splitter function</a></span></li><li><span><a href=\"#Time-period-incremental--function\" data-toc-modified-id=\"Time-period-incremental--function-2.1.3\"><span class=\"toc-item-num\">2.1.3&nbsp;&nbsp;</span>Time-period incremental  function</a></span></li></ul></li><li><span><a href=\"#Maintenance-model\" data-toc-modified-id=\"Maintenance-model-2.2\"><span class=\"toc-item-num\">2.2&nbsp;&nbsp;</span>Maintenance model</a></span><ul class=\"toc-item\"><li><span><a href=\"#Modules-importation\" data-toc-modified-id=\"Modules-importation-2.2.1\"><span class=\"toc-item-num\">2.2.1&nbsp;&nbsp;</span>Modules importation</a></span></li><li><span><a href=\"#Initialization-at-t=t0\" data-toc-modified-id=\"Initialization-at-t=t0-2.2.2\"><span class=\"toc-item-num\">2.2.2&nbsp;&nbsp;</span>Initialization at t=t0</a></span></li><li><span><a href=\"#Test-:-comparison-after-15-days\" data-toc-modified-id=\"Test-:-comparison-after-15-days-2.2.3\"><span class=\"toc-item-num\">2.2.3&nbsp;&nbsp;</span>Test : comparison after 15 days</a></span></li><li><span><a href=\"#Iteration-on-the-global-dataset\" data-toc-modified-id=\"Iteration-on-the-global-dataset-2.2.4\"><span class=\"toc-item-num\">2.2.4&nbsp;&nbsp;</span>Iteration on the global dataset</a></span></li><li><span><a href=\"#Model-accuracy-over-time-:-when-is-it-necessary-to-refresh-the-clustering?\" data-toc-modified-id=\"Model-accuracy-over-time-:-when-is-it-necessary-to-refresh-the-clustering?-2.2.5\"><span class=\"toc-item-num\">2.2.5&nbsp;&nbsp;</span>Model accuracy over time : when is it necessary to refresh the clustering?</a></span></li><li><span><a href=\"#Confirmation-of-the-update-frequency\" data-toc-modified-id=\"Confirmation-of-the-update-frequency-2.2.6\"><span class=\"toc-item-num\">2.2.6&nbsp;&nbsp;</span>Confirmation of the update frequency</a></span></li><li><span><a href=\"#Initialization-at-t=t0_bis\" data-toc-modified-id=\"Initialization-at-t=t0_bis-2.2.7\"><span class=\"toc-item-num\">2.2.7&nbsp;&nbsp;</span>Initialization at t=t0_bis</a></span><ul class=\"toc-item\"><li><span><a href=\"#Iteration-on-the-global-dataset\" data-toc-modified-id=\"Iteration-on-the-global-dataset-2.2.7.1\"><span class=\"toc-item-num\">2.2.7.1&nbsp;&nbsp;</span>Iteration on the global dataset</a></span></li><li><span><a href=\"#Evolution-of-ARI-score-during-the-last-4-months-of-the-dataset\" data-toc-modified-id=\"Evolution-of-ARI-score-during-the-last-4-months-of-the-dataset-2.2.7.2\"><span class=\"toc-item-num\">2.2.7.2&nbsp;&nbsp;</span>Evolution of ARI score during the last 4 months of the dataset</a></span></li></ul></li></ul></li></ul></li><li><span><a href=\"#Conclusion-\" data-toc-modified-id=\"Conclusion--3\"><span class=\"toc-item-num\">3&nbsp;&nbsp;</span>Conclusion <br></a></span></li></ul></div>"
   ]
  },
  {
   "cell_type": "markdown",
   "id": "818e005a",
   "metadata": {},
   "source": [
    "## Technical environment setup"
   ]
  },
  {
   "cell_type": "code",
   "execution_count": 1,
   "id": "a1ac5143",
   "metadata": {
    "ExecuteTime": {
     "end_time": "2022-09-05T08:24:02.283008Z",
     "start_time": "2022-09-05T08:24:02.042585Z"
    }
   },
   "outputs": [],
   "source": [
    "%load_ext pycodestyle_magic\n",
    "%pycodestyle_on\n",
    "# checking PEP8 compliance"
   ]
  },
  {
   "cell_type": "code",
   "execution_count": 2,
   "id": "67ef208a",
   "metadata": {
    "ExecuteTime": {
     "end_time": "2022-09-05T08:24:08.202674Z",
     "start_time": "2022-09-05T08:24:02.283008Z"
    }
   },
   "outputs": [
    {
     "name": "stdout",
     "output_type": "stream",
     "text": [
      "Populating the interactive namespace from numpy and matplotlib\n"
     ]
    }
   ],
   "source": [
    "%pylab inline \n",
    "import pandas as pd\n",
    "import seaborn as sns"
   ]
  },
  {
   "cell_type": "code",
   "execution_count": 3,
   "id": "8bd94cbb",
   "metadata": {
    "ExecuteTime": {
     "end_time": "2022-09-05T08:24:08.252715Z",
     "start_time": "2022-09-05T08:24:08.205999Z"
    }
   },
   "outputs": [],
   "source": [
    "%config IPCompleter.greedy=True #Auto-complétion\n",
    "pd.options.display.max_colwidth = 90\n",
    "pd.set_option('display.max_columns', None) # pour afficher toutes les colonnes\n",
    "pd.set_option('display.max_rows', None)  # Pour afficher toutes les lignes"
   ]
  },
  {
   "cell_type": "markdown",
   "id": "984744bf",
   "metadata": {},
   "source": [
    "## Maintenance of the clustering model"
   ]
  },
  {
   "cell_type": "markdown",
   "id": "0cf5c1f1",
   "metadata": {},
   "source": [
    "### Dataset splitting"
   ]
  },
  {
   "cell_type": "code",
   "execution_count": 4,
   "id": "1e3f5583",
   "metadata": {
    "ExecuteTime": {
     "end_time": "2022-09-05T08:24:08.662786Z",
     "start_time": "2022-09-05T08:24:08.264446Z"
    }
   },
   "outputs": [],
   "source": [
    "df = pd.read_csv('Segmentation_olist', index_col=0, parse_dates=True)"
   ]
  },
  {
   "cell_type": "code",
   "execution_count": 5,
   "id": "1494e644",
   "metadata": {
    "ExecuteTime": {
     "end_time": "2022-09-05T08:24:08.732944Z",
     "start_time": "2022-09-05T08:24:08.667249Z"
    }
   },
   "outputs": [
    {
     "data": {
      "text/html": [
       "<div>\n",
       "<style scoped>\n",
       "    .dataframe tbody tr th:only-of-type {\n",
       "        vertical-align: middle;\n",
       "    }\n",
       "\n",
       "    .dataframe tbody tr th {\n",
       "        vertical-align: top;\n",
       "    }\n",
       "\n",
       "    .dataframe thead th {\n",
       "        text-align: right;\n",
       "    }\n",
       "</style>\n",
       "<table border=\"1\" class=\"dataframe\">\n",
       "  <thead>\n",
       "    <tr style=\"text-align: right;\">\n",
       "      <th></th>\n",
       "      <th>total_number_of_orders</th>\n",
       "      <th>days_since_order</th>\n",
       "      <th>total_payment_sum</th>\n",
       "      <th>review_score</th>\n",
       "      <th>label</th>\n",
       "      <th>order_date</th>\n",
       "    </tr>\n",
       "    <tr>\n",
       "      <th>customer_unique_id</th>\n",
       "      <th></th>\n",
       "      <th></th>\n",
       "      <th></th>\n",
       "      <th></th>\n",
       "      <th></th>\n",
       "      <th></th>\n",
       "    </tr>\n",
       "  </thead>\n",
       "  <tbody>\n",
       "    <tr>\n",
       "      <th>861eff4711a542e4b93843c6dd7febb0</th>\n",
       "      <td>1</td>\n",
       "      <td>1932</td>\n",
       "      <td>146.87</td>\n",
       "      <td>4</td>\n",
       "      <td>1</td>\n",
       "      <td>2017-05-16</td>\n",
       "    </tr>\n",
       "    <tr>\n",
       "      <th>9eae34bbd3a474ec5d07949ca7de67c0</th>\n",
       "      <td>1</td>\n",
       "      <td>1755</td>\n",
       "      <td>275.79</td>\n",
       "      <td>1</td>\n",
       "      <td>2</td>\n",
       "      <td>2017-11-09</td>\n",
       "    </tr>\n",
       "    <tr>\n",
       "      <th>9eae34bbd3a474ec5d07949ca7de67c0</th>\n",
       "      <td>1</td>\n",
       "      <td>1755</td>\n",
       "      <td>275.79</td>\n",
       "      <td>1</td>\n",
       "      <td>2</td>\n",
       "      <td>2017-11-09</td>\n",
       "    </tr>\n",
       "    <tr>\n",
       "      <th>3c799d181c34d51f6d44bbbc563024db</th>\n",
       "      <td>1</td>\n",
       "      <td>1941</td>\n",
       "      <td>140.61</td>\n",
       "      <td>3</td>\n",
       "      <td>1</td>\n",
       "      <td>2017-05-07</td>\n",
       "    </tr>\n",
       "    <tr>\n",
       "      <th>23397e992b09769faf5e66f9e171a241</th>\n",
       "      <td>1</td>\n",
       "      <td>1669</td>\n",
       "      <td>137.58</td>\n",
       "      <td>4</td>\n",
       "      <td>4</td>\n",
       "      <td>2018-02-03</td>\n",
       "    </tr>\n",
       "  </tbody>\n",
       "</table>\n",
       "</div>"
      ],
      "text/plain": [
       "                                  total_number_of_orders  days_since_order  \\\n",
       "customer_unique_id                                                           \n",
       "861eff4711a542e4b93843c6dd7febb0                       1              1932   \n",
       "9eae34bbd3a474ec5d07949ca7de67c0                       1              1755   \n",
       "9eae34bbd3a474ec5d07949ca7de67c0                       1              1755   \n",
       "3c799d181c34d51f6d44bbbc563024db                       1              1941   \n",
       "23397e992b09769faf5e66f9e171a241                       1              1669   \n",
       "\n",
       "                                  total_payment_sum  review_score  label  \\\n",
       "customer_unique_id                                                         \n",
       "861eff4711a542e4b93843c6dd7febb0             146.87             4      1   \n",
       "9eae34bbd3a474ec5d07949ca7de67c0             275.79             1      2   \n",
       "9eae34bbd3a474ec5d07949ca7de67c0             275.79             1      2   \n",
       "3c799d181c34d51f6d44bbbc563024db             140.61             3      1   \n",
       "23397e992b09769faf5e66f9e171a241             137.58             4      4   \n",
       "\n",
       "                                  order_date  \n",
       "customer_unique_id                            \n",
       "861eff4711a542e4b93843c6dd7febb0  2017-05-16  \n",
       "9eae34bbd3a474ec5d07949ca7de67c0  2017-11-09  \n",
       "9eae34bbd3a474ec5d07949ca7de67c0  2017-11-09  \n",
       "3c799d181c34d51f6d44bbbc563024db  2017-05-07  \n",
       "23397e992b09769faf5e66f9e171a241  2018-02-03  "
      ]
     },
     "execution_count": 5,
     "metadata": {},
     "output_type": "execute_result"
    }
   ],
   "source": [
    "df.head()"
   ]
  },
  {
   "cell_type": "code",
   "execution_count": 6,
   "id": "7ec5414a",
   "metadata": {
    "ExecuteTime": {
     "end_time": "2022-09-05T08:24:08.762844Z",
     "start_time": "2022-09-05T08:24:08.734445Z"
    }
   },
   "outputs": [],
   "source": [
    "from datetime import datetime as dt"
   ]
  },
  {
   "cell_type": "code",
   "execution_count": 7,
   "id": "f1d73e47",
   "metadata": {
    "ExecuteTime": {
     "end_time": "2022-09-05T08:24:08.882966Z",
     "start_time": "2022-09-05T08:24:08.766996Z"
    }
   },
   "outputs": [],
   "source": [
    "df['order_date'] = pd.to_datetime(df['order_date'], format='%Y-%m-%d') # Conversion to datetime format\n",
    "df['order_date'] = df['order_date'].dt.date   # ('%Y-%m-%d')"
   ]
  },
  {
   "cell_type": "markdown",
   "id": "22703b6f",
   "metadata": {},
   "source": [
    "#### Initialization of some useful variables"
   ]
  },
  {
   "cell_type": "code",
   "execution_count": 8,
   "id": "a4b6e60b",
   "metadata": {
    "ExecuteTime": {
     "end_time": "2022-09-05T08:24:08.937922Z",
     "start_time": "2022-09-05T08:24:08.885514Z"
    }
   },
   "outputs": [
    {
     "data": {
      "text/plain": [
       "datetime.date(2016, 10, 3)"
      ]
     },
     "execution_count": 8,
     "metadata": {},
     "output_type": "execute_result"
    }
   ],
   "source": [
    "start = df['order_date'].min()\n",
    "start"
   ]
  },
  {
   "cell_type": "code",
   "execution_count": 9,
   "id": "cab00029",
   "metadata": {
    "ExecuteTime": {
     "end_time": "2022-09-05T08:24:08.982606Z",
     "start_time": "2022-09-05T08:24:08.940812Z"
    }
   },
   "outputs": [
    {
     "data": {
      "text/plain": [
       "datetime.date(2018, 8, 29)"
      ]
     },
     "execution_count": 9,
     "metadata": {},
     "output_type": "execute_result"
    }
   ],
   "source": [
    "end = df['order_date'].max()\n",
    "end"
   ]
  },
  {
   "cell_type": "code",
   "execution_count": 11,
   "id": "0bc75d89",
   "metadata": {
    "ExecuteTime": {
     "end_time": "2022-09-05T08:24:09.112921Z",
     "start_time": "2022-09-05T08:24:09.073547Z"
    }
   },
   "outputs": [],
   "source": [
    "duration = df['order_date'].max() - df['order_date'].min()"
   ]
  },
  {
   "cell_type": "code",
   "execution_count": 12,
   "id": "0f175a0b",
   "metadata": {
    "ExecuteTime": {
     "end_time": "2022-09-05T08:24:09.142434Z",
     "start_time": "2022-09-05T08:24:09.117271Z"
    }
   },
   "outputs": [
    {
     "data": {
      "text/plain": [
       "datetime.timedelta(days=695)"
      ]
     },
     "execution_count": 12,
     "metadata": {},
     "output_type": "execute_result"
    }
   ],
   "source": [
    "duration"
   ]
  },
  {
   "cell_type": "code",
   "execution_count": 13,
   "id": "d1d6459a",
   "metadata": {
    "ExecuteTime": {
     "end_time": "2022-09-05T08:24:09.178017Z",
     "start_time": "2022-09-05T08:24:09.145082Z"
    }
   },
   "outputs": [],
   "source": [
    "t0 = duration/2"
   ]
  },
  {
   "cell_type": "code",
   "execution_count": 14,
   "id": "70b9c056",
   "metadata": {
    "ExecuteTime": {
     "end_time": "2022-09-05T08:24:09.202546Z",
     "start_time": "2022-09-05T08:24:09.178017Z"
    }
   },
   "outputs": [
    {
     "data": {
      "text/plain": [
       "datetime.timedelta(days=347, seconds=43200)"
      ]
     },
     "execution_count": 14,
     "metadata": {},
     "output_type": "execute_result"
    }
   ],
   "source": [
    "t0"
   ]
  },
  {
   "cell_type": "code",
   "execution_count": 15,
   "id": "d9ffc938",
   "metadata": {
    "ExecuteTime": {
     "end_time": "2022-09-05T08:24:09.832794Z",
     "start_time": "2022-09-05T08:24:09.204792Z"
    },
    "scrolled": true
   },
   "outputs": [],
   "source": [
    "df['days_since_start'] = (df['order_date'] - start).dt.days"
   ]
  },
  {
   "cell_type": "markdown",
   "id": "3fbc2470",
   "metadata": {},
   "source": [
    "#### Time-splitter function"
   ]
  },
  {
   "cell_type": "code",
   "execution_count": 21,
   "id": "b3684037",
   "metadata": {
    "ExecuteTime": {
     "end_time": "2022-09-05T08:24:11.262306Z",
     "start_time": "2022-09-05T08:24:11.217564Z"
    }
   },
   "outputs": [],
   "source": [
    "# Function to cut the dataframe in two parts:\n",
    "def DataFrame_time_split(df, end_time):\n",
    "    start = df['order_date'].min()\n",
    "    end = df['order_date'].max()\n",
    "    duration = end - start\n",
    "    df_a = df[(df['order_date'] >= start) &\n",
    "              ((df['order_date'] - start < end_time))]\n",
    "    return df_a"
   ]
  },
  {
   "cell_type": "code",
   "execution_count": 22,
   "id": "fac04558",
   "metadata": {
    "ExecuteTime": {
     "end_time": "2022-09-05T08:24:11.972627Z",
     "start_time": "2022-09-05T08:24:11.269903Z"
    }
   },
   "outputs": [],
   "source": [
    "df_a = DataFrame_time_split(df, duration/2)"
   ]
  },
  {
   "cell_type": "code",
   "execution_count": 23,
   "id": "12357262",
   "metadata": {
    "ExecuteTime": {
     "end_time": "2022-09-05T08:24:12.022937Z",
     "start_time": "2022-09-05T08:24:11.974913Z"
    }
   },
   "outputs": [
    {
     "data": {
      "text/html": [
       "<div>\n",
       "<style scoped>\n",
       "    .dataframe tbody tr th:only-of-type {\n",
       "        vertical-align: middle;\n",
       "    }\n",
       "\n",
       "    .dataframe tbody tr th {\n",
       "        vertical-align: top;\n",
       "    }\n",
       "\n",
       "    .dataframe thead th {\n",
       "        text-align: right;\n",
       "    }\n",
       "</style>\n",
       "<table border=\"1\" class=\"dataframe\">\n",
       "  <thead>\n",
       "    <tr style=\"text-align: right;\">\n",
       "      <th></th>\n",
       "      <th>total_number_of_orders</th>\n",
       "      <th>days_since_order</th>\n",
       "      <th>total_payment_sum</th>\n",
       "      <th>review_score</th>\n",
       "      <th>label</th>\n",
       "      <th>order_date</th>\n",
       "      <th>days_since_start</th>\n",
       "    </tr>\n",
       "    <tr>\n",
       "      <th>customer_unique_id</th>\n",
       "      <th></th>\n",
       "      <th></th>\n",
       "      <th></th>\n",
       "      <th></th>\n",
       "      <th></th>\n",
       "      <th></th>\n",
       "      <th></th>\n",
       "    </tr>\n",
       "  </thead>\n",
       "  <tbody>\n",
       "    <tr>\n",
       "      <th>861eff4711a542e4b93843c6dd7febb0</th>\n",
       "      <td>1</td>\n",
       "      <td>1932</td>\n",
       "      <td>146.87</td>\n",
       "      <td>4</td>\n",
       "      <td>1</td>\n",
       "      <td>2017-05-16</td>\n",
       "      <td>225</td>\n",
       "    </tr>\n",
       "    <tr>\n",
       "      <th>3c799d181c34d51f6d44bbbc563024db</th>\n",
       "      <td>1</td>\n",
       "      <td>1941</td>\n",
       "      <td>140.61</td>\n",
       "      <td>3</td>\n",
       "      <td>1</td>\n",
       "      <td>2017-05-07</td>\n",
       "      <td>216</td>\n",
       "    </tr>\n",
       "    <tr>\n",
       "      <th>567ab47ca4deb92d46dbf54dce07d0a7</th>\n",
       "      <td>1</td>\n",
       "      <td>1986</td>\n",
       "      <td>142.05</td>\n",
       "      <td>4</td>\n",
       "      <td>1</td>\n",
       "      <td>2017-03-23</td>\n",
       "      <td>171</td>\n",
       "    </tr>\n",
       "    <tr>\n",
       "      <th>f40ab89b622248b7ca125af4b486b887</th>\n",
       "      <td>1</td>\n",
       "      <td>1932</td>\n",
       "      <td>155.70</td>\n",
       "      <td>4</td>\n",
       "      <td>1</td>\n",
       "      <td>2017-05-16</td>\n",
       "      <td>225</td>\n",
       "    </tr>\n",
       "    <tr>\n",
       "      <th>749943913a9851a39c9baf51877fbab6</th>\n",
       "      <td>1</td>\n",
       "      <td>1991</td>\n",
       "      <td>148.33</td>\n",
       "      <td>2</td>\n",
       "      <td>2</td>\n",
       "      <td>2017-03-18</td>\n",
       "      <td>166</td>\n",
       "    </tr>\n",
       "  </tbody>\n",
       "</table>\n",
       "</div>"
      ],
      "text/plain": [
       "                                  total_number_of_orders  days_since_order  \\\n",
       "customer_unique_id                                                           \n",
       "861eff4711a542e4b93843c6dd7febb0                       1              1932   \n",
       "3c799d181c34d51f6d44bbbc563024db                       1              1941   \n",
       "567ab47ca4deb92d46dbf54dce07d0a7                       1              1986   \n",
       "f40ab89b622248b7ca125af4b486b887                       1              1932   \n",
       "749943913a9851a39c9baf51877fbab6                       1              1991   \n",
       "\n",
       "                                  total_payment_sum  review_score  label  \\\n",
       "customer_unique_id                                                         \n",
       "861eff4711a542e4b93843c6dd7febb0             146.87             4      1   \n",
       "3c799d181c34d51f6d44bbbc563024db             140.61             3      1   \n",
       "567ab47ca4deb92d46dbf54dce07d0a7             142.05             4      1   \n",
       "f40ab89b622248b7ca125af4b486b887             155.70             4      1   \n",
       "749943913a9851a39c9baf51877fbab6             148.33             2      2   \n",
       "\n",
       "                                  order_date  days_since_start  \n",
       "customer_unique_id                                              \n",
       "861eff4711a542e4b93843c6dd7febb0  2017-05-16               225  \n",
       "3c799d181c34d51f6d44bbbc563024db  2017-05-07               216  \n",
       "567ab47ca4deb92d46dbf54dce07d0a7  2017-03-23               171  \n",
       "f40ab89b622248b7ca125af4b486b887  2017-05-16               225  \n",
       "749943913a9851a39c9baf51877fbab6  2017-03-18               166  "
      ]
     },
     "execution_count": 23,
     "metadata": {},
     "output_type": "execute_result"
    }
   ],
   "source": [
    "df_a.head()"
   ]
  },
  {
   "cell_type": "code",
   "execution_count": 24,
   "id": "02c51d34",
   "metadata": {
    "ExecuteTime": {
     "end_time": "2022-09-05T08:24:12.062994Z",
     "start_time": "2022-09-05T08:24:12.029251Z"
    }
   },
   "outputs": [
    {
     "data": {
      "text/plain": [
       "datetime.date(2017, 9, 15)"
      ]
     },
     "execution_count": 24,
     "metadata": {},
     "output_type": "execute_result"
    }
   ],
   "source": [
    "df_a['order_date'].max()"
   ]
  },
  {
   "cell_type": "markdown",
   "id": "23eebd82",
   "metadata": {},
   "source": [
    "#### Time-period incremental  function"
   ]
  },
  {
   "cell_type": "code",
   "execution_count": 26,
   "id": "2fd33575",
   "metadata": {
    "ExecuteTime": {
     "end_time": "2022-09-05T08:24:12.163043Z",
     "start_time": "2022-09-05T08:24:12.120098Z"
    }
   },
   "outputs": [],
   "source": [
    "# Function to generate an incremented dataset with a specified time period\n",
    "\n",
    "def DataFrame_order_increment(df, start=df['order_date'].min(), time_period):\n",
    "    df['order_date'] = pd.to_datetime(df['order_date'], format='%Y-%m-%d')\n",
    "    df['order_date'] = df['order_date'].dt.date   # ('%Y-%m-%d')\n",
    "    start = df['order_date'].min() \n",
    "    end = df['order_date'].max()\n",
    "    duration = end - start\n",
    "    df_t0 = df[(df['order_date'] >= start) &\n",
    "               ((df['order_date'] - start < (duration/2)))]\n",
    "    df_2 = df[(df['days_since_start'] <=\n",
    "               (df_t0['days_since_start'].max() + time_period))]\n",
    "    result = pd.concat([df_t0, df_2], axis=0, join='outer')\n",
    "    return result"
   ]
  },
  {
   "cell_type": "markdown",
   "id": "7ba77e9c",
   "metadata": {},
   "source": [
    "### Maintenance model"
   ]
  },
  {
   "cell_type": "markdown",
   "id": "906f6845",
   "metadata": {},
   "source": [
    "#### Modules importation"
   ]
  },
  {
   "cell_type": "code",
   "execution_count": 32,
   "id": "8af4aeca",
   "metadata": {
    "ExecuteTime": {
     "end_time": "2022-09-05T08:24:16.192658Z",
     "start_time": "2022-09-05T08:24:13.816688Z"
    }
   },
   "outputs": [],
   "source": [
    "from sklearn.cluster import KMeans\n",
    "from sklearn.preprocessing import StandardScaler\n",
    "from sklearn.metrics.cluster import adjusted_rand_score"
   ]
  },
  {
   "cell_type": "markdown",
   "id": "b9b7f737",
   "metadata": {},
   "source": [
    "#### Initialization at t=t0"
   ]
  },
  {
   "cell_type": "code",
   "execution_count": 31,
   "id": "c5bba656",
   "metadata": {
    "ExecuteTime": {
     "end_time": "2022-09-05T08:24:13.813210Z",
     "start_time": "2022-09-05T08:24:13.021588Z"
    }
   },
   "outputs": [],
   "source": [
    "data_t0 = DataFrame_order_increment(df, df['order_date'].min(), 0)\n",
    "data_t0 = data_t0.drop('order_date', axis=1)"
   ]
  },
  {
   "cell_type": "code",
   "execution_count": 33,
   "id": "307809e6",
   "metadata": {
    "ExecuteTime": {
     "end_time": "2022-09-05T08:24:17.456618Z",
     "start_time": "2022-09-05T08:24:16.195478Z"
    }
   },
   "outputs": [],
   "source": [
    "F0 = StandardScaler().fit_transform(data_t0)\n",
    "M0 = KMeans(n_clusters=5, random_state=7)\n",
    "C0 = M0.fit(F0)"
   ]
  },
  {
   "cell_type": "markdown",
   "id": "62529ba4",
   "metadata": {},
   "source": [
    "#### Test : comparison after 15 days"
   ]
  },
  {
   "cell_type": "code",
   "execution_count": 34,
   "id": "b8865495",
   "metadata": {
    "ExecuteTime": {
     "end_time": "2022-09-05T08:24:19.132154Z",
     "start_time": "2022-09-05T08:24:17.460256Z"
    }
   },
   "outputs": [
    {
     "data": {
      "text/plain": [
       "0.998705310520213"
      ]
     },
     "execution_count": 34,
     "metadata": {},
     "output_type": "execute_result"
    }
   ],
   "source": [
    "# Test with one df\n",
    "data_t1 = DataFrame_order_increment(df, df['order_date'].min(), 15)\n",
    "data_t1 = data_t1.drop('order_date', axis=1)\n",
    "F1 = StandardScaler().fit_transform(data_t1)\n",
    "\n",
    "M1 = KMeans(n_clusters=5, random_state=7)\n",
    "C1_init = M0.predict(F1)\n",
    "C1_new = M1.fit(F1)\n",
    "C1_new_labels = M1.labels_\n",
    "\n",
    "adjusted_rand_score(C1_new_labels, C1_init)"
   ]
  },
  {
   "cell_type": "markdown",
   "id": "8c1347aa",
   "metadata": {},
   "source": [
    "After 15 days, the model is still very accurate since the ARI score is over 0.998. \n",
    "For the following project, the __model will be considered as accurate over time if the ARI score is higher than 0.8__. <br>\n",
    "Now, the same operation will be performed for the entire dataset, by incremental time periods of 7 days (also known as weeks). In the end, a graphical representation of ARI score over time will be proposed to determine the more appropriate maintenance delay."
   ]
  },
  {
   "cell_type": "markdown",
   "id": "76740d19",
   "metadata": {},
   "source": [
    "#### Iteration on the global dataset"
   ]
  },
  {
   "cell_type": "code",
   "execution_count": 35,
   "id": "41d088d1",
   "metadata": {
    "ExecuteTime": {
     "end_time": "2022-09-05T08:26:02.111392Z",
     "start_time": "2022-09-05T08:24:19.136383Z"
    },
    "scrolled": true
   },
   "outputs": [],
   "source": [
    "# For-loop to iterate\n",
    "time_in_days = []\n",
    "ARI_score = []\n",
    "for i in range(1, 50):\n",
    "    x = 7*i\n",
    "    data_ti = DataFrame_order_increment(df, df['order_date'].min(), x)\n",
    "    data_ti = data_ti.drop('order_date', axis=1)\n",
    "    Fi = StandardScaler().fit_transform(data_ti)\n",
    "    Mi = KMeans(n_clusters=5, random_state=7)\n",
    "    Ci_init = M0.predict(Fi)\n",
    "    Ci_new = Mi.fit(Fi)\n",
    "    Ci_new_labels = Mi.labels_\n",
    "    ARI_i = adjusted_rand_score(Ci_new_labels, Ci_init)\n",
    "    time_in_days.append((x))\n",
    "    ARI_score.append(ARI_i)"
   ]
  },
  {
   "cell_type": "markdown",
   "id": "0162ba98",
   "metadata": {},
   "source": [
    "#### Model accuracy over time : when is it necessary to refresh the clustering?"
   ]
  },
  {
   "cell_type": "code",
   "execution_count": 36,
   "id": "b85c4d3a",
   "metadata": {
    "ExecuteTime": {
     "end_time": "2022-09-05T08:26:02.657752Z",
     "start_time": "2022-09-05T08:26:02.115126Z"
    }
   },
   "outputs": [
    {
     "data": {
      "image/png": "[encoded data removed]",
      "text/plain": [
       "<Figure size 432x288 with 1 Axes>"
      ]
     },
     "metadata": {
      "needs_background": "light"
     },
     "output_type": "display_data"
    }
   ],
   "source": [
    "plt.figure()\n",
    "plt.plot(time_in_days, ARI_score)\n",
    "plt.xlabel('Number of days since beginning')\n",
    "plt.xticks(np.arange(0, 350, step=30))\n",
    "plt.ylabel('Adjusted Rand Score (ARI)')\n",
    "plt.title('Evolution of ARI with time')\n",
    "plt.show()"
   ]
  },
  {
   "cell_type": "code",
   "execution_count": 37,
   "id": "243e2f0d",
   "metadata": {
    "ExecuteTime": {
     "end_time": "2022-09-05T08:26:02.697635Z",
     "start_time": "2022-09-05T08:26:02.662776Z"
    }
   },
   "outputs": [],
   "source": [
    "ari = pd.DataFrame(data=ARI_score, columns=['ARI_score'])\n",
    "ari['number_of_days'] = time_in_days"
   ]
  },
  {
   "cell_type": "code",
   "execution_count": 39,
   "id": "3f4a3779",
   "metadata": {
    "ExecuteTime": {
     "end_time": "2022-09-05T08:26:02.902333Z",
     "start_time": "2022-09-05T08:26:02.745085Z"
    }
   },
   "outputs": [
    {
     "data": {
      "text/html": [
       "<div>\n",
       "<style scoped>\n",
       "    .dataframe tbody tr th:only-of-type {\n",
       "        vertical-align: middle;\n",
       "    }\n",
       "\n",
       "    .dataframe tbody tr th {\n",
       "        vertical-align: top;\n",
       "    }\n",
       "\n",
       "    .dataframe thead th {\n",
       "        text-align: right;\n",
       "    }\n",
       "</style>\n",
       "<table border=\"1\" class=\"dataframe\">\n",
       "  <thead>\n",
       "    <tr style=\"text-align: right;\">\n",
       "      <th></th>\n",
       "      <th>ARI_score</th>\n",
       "      <th>number_of_days</th>\n",
       "    </tr>\n",
       "  </thead>\n",
       "  <tbody>\n",
       "    <tr>\n",
       "      <th>16</th>\n",
       "      <td>0.734440</td>\n",
       "      <td>119</td>\n",
       "    </tr>\n",
       "    <tr>\n",
       "      <th>17</th>\n",
       "      <td>0.672749</td>\n",
       "      <td>126</td>\n",
       "    </tr>\n",
       "    <tr>\n",
       "      <th>18</th>\n",
       "      <td>0.619855</td>\n",
       "      <td>133</td>\n",
       "    </tr>\n",
       "    <tr>\n",
       "      <th>19</th>\n",
       "      <td>0.583739</td>\n",
       "      <td>140</td>\n",
       "    </tr>\n",
       "    <tr>\n",
       "      <th>20</th>\n",
       "      <td>0.555187</td>\n",
       "      <td>147</td>\n",
       "    </tr>\n",
       "    <tr>\n",
       "      <th>21</th>\n",
       "      <td>0.523188</td>\n",
       "      <td>154</td>\n",
       "    </tr>\n",
       "    <tr>\n",
       "      <th>22</th>\n",
       "      <td>0.499446</td>\n",
       "      <td>161</td>\n",
       "    </tr>\n",
       "    <tr>\n",
       "      <th>23</th>\n",
       "      <td>0.469277</td>\n",
       "      <td>168</td>\n",
       "    </tr>\n",
       "    <tr>\n",
       "      <th>24</th>\n",
       "      <td>0.453553</td>\n",
       "      <td>175</td>\n",
       "    </tr>\n",
       "    <tr>\n",
       "      <th>25</th>\n",
       "      <td>0.438701</td>\n",
       "      <td>182</td>\n",
       "    </tr>\n",
       "    <tr>\n",
       "      <th>26</th>\n",
       "      <td>0.429562</td>\n",
       "      <td>189</td>\n",
       "    </tr>\n",
       "    <tr>\n",
       "      <th>27</th>\n",
       "      <td>0.421640</td>\n",
       "      <td>196</td>\n",
       "    </tr>\n",
       "    <tr>\n",
       "      <th>28</th>\n",
       "      <td>0.417482</td>\n",
       "      <td>203</td>\n",
       "    </tr>\n",
       "    <tr>\n",
       "      <th>29</th>\n",
       "      <td>0.415361</td>\n",
       "      <td>210</td>\n",
       "    </tr>\n",
       "    <tr>\n",
       "      <th>30</th>\n",
       "      <td>0.464628</td>\n",
       "      <td>217</td>\n",
       "    </tr>\n",
       "    <tr>\n",
       "      <th>31</th>\n",
       "      <td>0.481765</td>\n",
       "      <td>224</td>\n",
       "    </tr>\n",
       "    <tr>\n",
       "      <th>32</th>\n",
       "      <td>0.497660</td>\n",
       "      <td>231</td>\n",
       "    </tr>\n",
       "    <tr>\n",
       "      <th>33</th>\n",
       "      <td>0.517422</td>\n",
       "      <td>238</td>\n",
       "    </tr>\n",
       "    <tr>\n",
       "      <th>34</th>\n",
       "      <td>0.539616</td>\n",
       "      <td>245</td>\n",
       "    </tr>\n",
       "    <tr>\n",
       "      <th>35</th>\n",
       "      <td>0.552742</td>\n",
       "      <td>252</td>\n",
       "    </tr>\n",
       "    <tr>\n",
       "      <th>36</th>\n",
       "      <td>0.561291</td>\n",
       "      <td>259</td>\n",
       "    </tr>\n",
       "    <tr>\n",
       "      <th>37</th>\n",
       "      <td>0.569862</td>\n",
       "      <td>266</td>\n",
       "    </tr>\n",
       "    <tr>\n",
       "      <th>38</th>\n",
       "      <td>0.579440</td>\n",
       "      <td>273</td>\n",
       "    </tr>\n",
       "    <tr>\n",
       "      <th>39</th>\n",
       "      <td>0.587212</td>\n",
       "      <td>280</td>\n",
       "    </tr>\n",
       "    <tr>\n",
       "      <th>40</th>\n",
       "      <td>0.596340</td>\n",
       "      <td>287</td>\n",
       "    </tr>\n",
       "    <tr>\n",
       "      <th>41</th>\n",
       "      <td>0.601920</td>\n",
       "      <td>294</td>\n",
       "    </tr>\n",
       "    <tr>\n",
       "      <th>42</th>\n",
       "      <td>0.607430</td>\n",
       "      <td>301</td>\n",
       "    </tr>\n",
       "    <tr>\n",
       "      <th>43</th>\n",
       "      <td>0.615332</td>\n",
       "      <td>308</td>\n",
       "    </tr>\n",
       "    <tr>\n",
       "      <th>44</th>\n",
       "      <td>0.625059</td>\n",
       "      <td>315</td>\n",
       "    </tr>\n",
       "    <tr>\n",
       "      <th>45</th>\n",
       "      <td>0.635890</td>\n",
       "      <td>322</td>\n",
       "    </tr>\n",
       "    <tr>\n",
       "      <th>46</th>\n",
       "      <td>0.647925</td>\n",
       "      <td>329</td>\n",
       "    </tr>\n",
       "    <tr>\n",
       "      <th>47</th>\n",
       "      <td>0.657944</td>\n",
       "      <td>336</td>\n",
       "    </tr>\n",
       "    <tr>\n",
       "      <th>48</th>\n",
       "      <td>0.663779</td>\n",
       "      <td>343</td>\n",
       "    </tr>\n",
       "  </tbody>\n",
       "</table>\n",
       "</div>"
      ],
      "text/plain": [
       "    ARI_score  number_of_days\n",
       "16   0.734440             119\n",
       "17   0.672749             126\n",
       "18   0.619855             133\n",
       "19   0.583739             140\n",
       "20   0.555187             147\n",
       "21   0.523188             154\n",
       "22   0.499446             161\n",
       "23   0.469277             168\n",
       "24   0.453553             175\n",
       "25   0.438701             182\n",
       "26   0.429562             189\n",
       "27   0.421640             196\n",
       "28   0.417482             203\n",
       "29   0.415361             210\n",
       "30   0.464628             217\n",
       "31   0.481765             224\n",
       "32   0.497660             231\n",
       "33   0.517422             238\n",
       "34   0.539616             245\n",
       "35   0.552742             252\n",
       "36   0.561291             259\n",
       "37   0.569862             266\n",
       "38   0.579440             273\n",
       "39   0.587212             280\n",
       "40   0.596340             287\n",
       "41   0.601920             294\n",
       "42   0.607430             301\n",
       "43   0.615332             308\n",
       "44   0.625059             315\n",
       "45   0.635890             322\n",
       "46   0.647925             329\n",
       "47   0.657944             336\n",
       "48   0.663779             343"
      ]
     },
     "execution_count": 39,
     "metadata": {},
     "output_type": "execute_result"
    }
   ],
   "source": [
    "ari[ari['ARI_score'] <= 0.8]  # After 119 days, the clustering model is not accurate enough and needs an update"
   ]
  },
  {
   "cell_type": "markdown",
   "id": "e377179e",
   "metadata": {},
   "source": [
    "ARI scores is under 0.8 after 119 days, which is approximately 4 months. Another simulation will be done to check that this delay is correct"
   ]
  },
  {
   "cell_type": "markdown",
   "id": "69242c66",
   "metadata": {},
   "source": [
    "#### Confirmation of the update frequency\n",
    "In this part of the project, the last 4 months will be studied to check that the ARI score is still accurate on the most recent data. The exact same code will be used, with an adjustment on the dates to fit the time-period concerned."
   ]
  },
  {
   "cell_type": "markdown",
   "id": "f752ac9b",
   "metadata": {},
   "source": [
    "#### Initialization at t=t0_bis"
   ]
  },
  {
   "cell_type": "code",
   "execution_count": 41,
   "id": "3d1e3ea7",
   "metadata": {
    "ExecuteTime": {
     "end_time": "2022-09-05T08:26:03.717918Z",
     "start_time": "2022-09-05T08:26:02.961244Z"
    }
   },
   "outputs": [],
   "source": [
    "# Total duration over the global file : 695 days, halftime : 347\n",
    "# From half of it, if we want to start 4 months (120 days) before the end,\n",
    "# we need to add 228 days to the halftime to reach (695-120)\n",
    "data_t0_bis = DataFrame_order_increment(df, df['order_date'].min(), 228)\n",
    "data_t0_bis = data_t0_bis.drop('order_date', axis=1)"
   ]
  },
  {
   "cell_type": "code",
   "execution_count": 49,
   "id": "d0adfea5",
   "metadata": {
    "ExecuteTime": {
     "end_time": "2022-09-05T12:46:17.277936Z",
     "start_time": "2022-09-05T12:46:17.230295Z"
    }
   },
   "outputs": [
    {
     "data": {
      "text/plain": [
       "120"
      ]
     },
     "execution_count": 49,
     "metadata": {},
     "output_type": "execute_result"
    }
   ],
   "source": [
    "df['days_since_start'].max() - data_t0_bis['days_since_start'].max()\n",
    "# 120 days == 18 weeks"
   ]
  },
  {
   "cell_type": "code",
   "execution_count": 43,
   "id": "20b752cc",
   "metadata": {
    "ExecuteTime": {
     "end_time": "2022-09-05T08:26:05.068106Z",
     "start_time": "2022-09-05T08:26:03.752875Z"
    }
   },
   "outputs": [],
   "source": [
    "F0 = StandardScaler().fit_transform(data_t0_bis)\n",
    "M0 = KMeans(n_clusters=5, random_state=7)\n",
    "C0 = M0.fit(F0)"
   ]
  },
  {
   "cell_type": "markdown",
   "id": "5948a637",
   "metadata": {},
   "source": [
    "##### Iteration on the global dataset"
   ]
  },
  {
   "cell_type": "code",
   "execution_count": 44,
   "id": "61ff41ab",
   "metadata": {
    "ExecuteTime": {
     "end_time": "2022-09-05T08:26:45.278752Z",
     "start_time": "2022-09-05T08:26:05.074642Z"
    }
   },
   "outputs": [],
   "source": [
    "time_in_days_bis = []\n",
    "ARI_score_bis = []\n",
    "for i in range(1, 18):  # 22 weeks to the end\n",
    "    x = 7*i\n",
    "    data_ti = DataFrame_order_increment(df, df['order_date'].min(), 228+x)\n",
    "    data_ti = data_ti.drop('order_date', axis=1)\n",
    "    Fi = StandardScaler().fit_transform(data_ti)\n",
    "    Mi = KMeans(n_clusters=5, random_state=7)\n",
    "    Ci_init = M0.predict(Fi)\n",
    "    Ci_new = Mi.fit(Fi)\n",
    "    Ci_new_labels = Mi.labels_\n",
    "    ARI_i = adjusted_rand_score(Ci_new_labels, Ci_init)\n",
    "    time_in_days_bis.append((x))\n",
    "    ARI_score_bis.append(ARI_i)"
   ]
  },
  {
   "cell_type": "markdown",
   "id": "94c9b2a4",
   "metadata": {},
   "source": [
    "##### Evolution of ARI score during the last 4 months of the dataset"
   ]
  },
  {
   "cell_type": "code",
   "execution_count": 52,
   "id": "74b050fb",
   "metadata": {
    "ExecuteTime": {
     "end_time": "2022-09-05T12:56:48.968979Z",
     "start_time": "2022-09-05T12:56:48.705568Z"
    }
   },
   "outputs": [
    {
     "data": {
      "image/png": "[encoded data removed]",
      "text/plain": [
       "<Figure size 432x288 with 1 Axes>"
      ]
     },
     "metadata": {
      "needs_background": "light"
     },
     "output_type": "display_data"
    }
   ],
   "source": [
    "plt.figure()\n",
    "plt.plot(time_in_days_bis, ARI_score_bis)\n",
    "plt.xlabel('Number of days until most recent data')\n",
    "# For a view in 30-days time period (by month):\n",
    "plt.xticks(np.arange(0, 120, step=30))\n",
    "plt.ylabel('Adjusted Rand Score (ARI)')\n",
    "plt.title('Evolution of ARI with time')\n",
    "plt.show()"
   ]
  },
  {
   "cell_type": "code",
   "execution_count": 46,
   "id": "62b69fde",
   "metadata": {
    "ExecuteTime": {
     "end_time": "2022-09-05T08:26:45.652757Z",
     "start_time": "2022-09-05T08:26:45.616293Z"
    }
   },
   "outputs": [],
   "source": [
    "ari_bis = pd.DataFrame(data=ARI_score_bis, columns=['ARI_score'])\n",
    "ari_bis['number_of_days'] = time_in_days_bis"
   ]
  },
  {
   "cell_type": "code",
   "execution_count": 47,
   "id": "7b22ffca",
   "metadata": {
    "ExecuteTime": {
     "end_time": "2022-09-05T08:26:45.702795Z",
     "start_time": "2022-09-05T08:26:45.655336Z"
    }
   },
   "outputs": [
    {
     "data": {
      "text/html": [
       "<div>\n",
       "<style scoped>\n",
       "    .dataframe tbody tr th:only-of-type {\n",
       "        vertical-align: middle;\n",
       "    }\n",
       "\n",
       "    .dataframe tbody tr th {\n",
       "        vertical-align: top;\n",
       "    }\n",
       "\n",
       "    .dataframe thead th {\n",
       "        text-align: right;\n",
       "    }\n",
       "</style>\n",
       "<table border=\"1\" class=\"dataframe\">\n",
       "  <thead>\n",
       "    <tr style=\"text-align: right;\">\n",
       "      <th></th>\n",
       "      <th>ARI_score</th>\n",
       "      <th>number_of_days</th>\n",
       "    </tr>\n",
       "  </thead>\n",
       "  <tbody>\n",
       "    <tr>\n",
       "      <th>0</th>\n",
       "      <td>0.999031</td>\n",
       "      <td>7</td>\n",
       "    </tr>\n",
       "    <tr>\n",
       "      <th>1</th>\n",
       "      <td>0.998026</td>\n",
       "      <td>14</td>\n",
       "    </tr>\n",
       "    <tr>\n",
       "      <th>2</th>\n",
       "      <td>0.997832</td>\n",
       "      <td>21</td>\n",
       "    </tr>\n",
       "    <tr>\n",
       "      <th>3</th>\n",
       "      <td>0.997387</td>\n",
       "      <td>28</td>\n",
       "    </tr>\n",
       "    <tr>\n",
       "      <th>4</th>\n",
       "      <td>0.995772</td>\n",
       "      <td>35</td>\n",
       "    </tr>\n",
       "  </tbody>\n",
       "</table>\n",
       "</div>"
      ],
      "text/plain": [
       "   ARI_score  number_of_days\n",
       "0   0.999031               7\n",
       "1   0.998026              14\n",
       "2   0.997832              21\n",
       "3   0.997387              28\n",
       "4   0.995772              35"
      ]
     },
     "execution_count": 47,
     "metadata": {},
     "output_type": "execute_result"
    }
   ],
   "source": [
    "ari_bis.head()"
   ]
  },
  {
   "cell_type": "code",
   "execution_count": 48,
   "id": "6543bda5",
   "metadata": {
    "ExecuteTime": {
     "end_time": "2022-09-05T08:26:45.742802Z",
     "start_time": "2022-09-05T08:26:45.705480Z"
    }
   },
   "outputs": [
    {
     "data": {
      "text/html": [
       "<div>\n",
       "<style scoped>\n",
       "    .dataframe tbody tr th:only-of-type {\n",
       "        vertical-align: middle;\n",
       "    }\n",
       "\n",
       "    .dataframe tbody tr th {\n",
       "        vertical-align: top;\n",
       "    }\n",
       "\n",
       "    .dataframe thead th {\n",
       "        text-align: right;\n",
       "    }\n",
       "</style>\n",
       "<table border=\"1\" class=\"dataframe\">\n",
       "  <thead>\n",
       "    <tr style=\"text-align: right;\">\n",
       "      <th></th>\n",
       "      <th>ARI_score</th>\n",
       "      <th>number_of_days</th>\n",
       "    </tr>\n",
       "  </thead>\n",
       "  <tbody>\n",
       "  </tbody>\n",
       "</table>\n",
       "</div>"
      ],
      "text/plain": [
       "Empty DataFrame\n",
       "Columns: [ARI_score, number_of_days]\n",
       "Index: []"
      ]
     },
     "execution_count": 48,
     "metadata": {},
     "output_type": "execute_result"
    }
   ],
   "source": [
    "ari_bis[ari_bis['ARI_score'] <= 0.8] # The model is constantly accurate in the last 4 months!"
   ]
  },
  {
   "cell_type": "markdown",
   "id": "8912c58b",
   "metadata": {},
   "source": [
    "## Conclusion <br>\n",
    "- The maintenance model is accurate and suggest to update the clustering every 4 months approximately.\n",
    "- During the time-period where the model is accurate, the ARI score is constantly over 0.8, suggesting that the clustering model is reliable.\n",
    "- The model update can be fully automatized and only requires the input of the new datasets in the clustering notebook."
   ]
  }
 ],
 "metadata": {
  "kernelspec": {
   "display_name": "Python 3 (ipykernel)",
   "language": "python",
   "name": "python3"
  },
  "language_info": {
   "codemirror_mode": {
    "name": "ipython",
    "version": 3
   },
   "file_extension": ".py",
   "mimetype": "text/x-python",
   "name": "python",
   "nbconvert_exporter": "python",
   "pygments_lexer": "ipython3",
   "version": "3.9.7"
  },
  "nbTranslate": {
   "displayLangs": [
    "*"
   ],
   "hotkey": "alt-t",
   "langInMainMenu": true,
   "sourceLang": "en",
   "targetLang": "fr",
   "useGoogleTranslate": true
  },
  "toc": {
   "base_numbering": 1,
   "nav_menu": {},
   "number_sections": true,
   "sideBar": true,
   "skip_h1_title": true,
   "title_cell": "Sommaire",
   "title_sidebar": "Contents",
   "toc_cell": true,
   "toc_position": {
    "height": "calc(100% - 180px)",
    "left": "10px",
    "top": "150px",
    "width": "165px"
   },
   "toc_section_display": true,
   "toc_window_display": true
  }
 },
 "nbformat": 4,
 "nbformat_minor": 5
}
